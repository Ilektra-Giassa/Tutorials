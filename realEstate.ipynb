{
  "nbformat": 4,
  "nbformat_minor": 0,
  "metadata": {
    "colab": {
      "provenance": [],
      "authorship_tag": "ABX9TyMyULPZ+58LRnhyHf3nQnbW",
      "include_colab_link": true
    },
    "kernelspec": {
      "name": "python3",
      "display_name": "Python 3"
    },
    "language_info": {
      "name": "python"
    }
  },
  "cells": [
    {
      "cell_type": "markdown",
      "metadata": {
        "id": "view-in-github",
        "colab_type": "text"
      },
      "source": [
        "<a href=\"https://colab.research.google.com/github/Ilektra-Giassa/Tutorials/blob/main/realEstate.ipynb\" target=\"_parent\"><img src=\"https://colab.research.google.com/assets/colab-badge.svg\" alt=\"Open In Colab\"/></a>"
      ]
    },
    {
      "cell_type": "markdown",
      "source": [
        "#How much more (inflation)?\n",
        "A regression problem"
      ],
      "metadata": {
        "id": "R7Wn7aI78pG1"
      }
    },
    {
      "cell_type": "code",
      "execution_count": 26,
      "metadata": {
        "colab": {
          "base_uri": "https://localhost:8080/"
        },
        "id": "GsRSZHpw8l6t",
        "outputId": "8451b7b0-47b3-420f-a3b2-ca9e7a8364b3"
      },
      "outputs": [
        {
          "output_type": "execute_result",
          "data": {
            "text/plain": [
              "(102,)"
            ]
          },
          "metadata": {},
          "execution_count": 26
        }
      ],
      "source": [
        "from keras.datasets import boston_housing\n",
        "import numpy as np\n",
        "(train_data, train_targets), (test_data, test_targets) = boston_housing.load_data()\n",
        "train_data.shape #(404, 13) various real estate features\n",
        "test_data.shape #(102, 13)\n",
        "train_targets.shape #(404,) prices\n",
        "test_targets.shape #(102,)"
      ]
    },
    {
      "cell_type": "markdown",
      "source": [
        "### Normalize datasets"
      ],
      "metadata": {
        "id": "FqsUepgkZLu3"
      }
    },
    {
      "cell_type": "code",
      "source": [
        "np.max(train_targets)\n",
        "np.min(train_targets)\n",
        "#prices between 5K and 50K :S"
      ],
      "metadata": {
        "colab": {
          "base_uri": "https://localhost:8080/"
        },
        "id": "i4HG3hYuZyAw",
        "outputId": "017a4889-e2a3-4364-9065-2770225b2047"
      },
      "execution_count": 31,
      "outputs": [
        {
          "output_type": "execute_result",
          "data": {
            "text/plain": [
              "5.0"
            ]
          },
          "metadata": {},
          "execution_count": 31
        }
      ]
    },
    {
      "cell_type": "code",
      "source": [
        "#calculate the avg and std per row of the train data -> elem_new=(elem-avg)/std\n",
        "mean=train_data.mean(axis=0)\n",
        "train_data-=mean\n",
        "std=train_data.std(axis=0)\n",
        "train_data/=std"
      ],
      "metadata": {
        "id": "ywI8VrfyW09y"
      },
      "execution_count": 34,
      "outputs": []
    },
    {
      "cell_type": "markdown",
      "source": [
        "### Function to build the net"
      ],
      "metadata": {
        "id": "4jaxwfDecR7D"
      }
    },
    {
      "cell_type": "code",
      "source": [
        "from keras import layers, models\n",
        "def build_model():\n",
        "  model=models.Sequential()\n",
        "  model.add(layers.Dense(64, activation='relu',input_shape=(train_data.shape[1],)))\n",
        "  model.add(layers.Dense(64, activation='relu'))\n",
        "  model.add(layers.Dense(1))\n",
        "  #compile the net\n",
        "  model.compile(optimizer='rmsprop', loss='mse', metrics=['mae'])\n",
        "  return model"
      ],
      "metadata": {
        "id": "vZuxHV5ycWE1"
      },
      "execution_count": 53,
      "outputs": []
    },
    {
      "cell_type": "markdown",
      "source": [
        "### Small train dataset, sooo K-fold validation"
      ],
      "metadata": {
        "id": "kTap0iFR8pvr"
      }
    },
    {
      "cell_type": "code",
      "source": [
        "#let's do 4-fold\n",
        "k=4\n",
        "num_val_samples=len(train_data)//4 #101 validation samples\n",
        "num_epochs=100\n",
        "all_scores=[]\n",
        "for i in range(k):\n",
        "  #prepare validation data\n",
        "  print('Processing fold #', i)\n",
        "  val_data=train_data[i*num_val_samples: (i+1)*num_val_samples]\n",
        "  val_targets=train_targets[i*num_val_samples: (i+1)*num_val_samples]\n",
        "\n",
        "  #prepare training data\n",
        "  partial_train_data=np.concatenate(\n",
        "      [train_data[:i*num_val_samples],\n",
        "       train_data[(i+1)*num_val_samples:]], axis=0)\n",
        "  partial_train_targets=np.concatenate(\n",
        "      [train_targets[:i*num_val_samples],\n",
        "       train_targets[(i+1)*num_val_samples:]], axis=0)\n",
        "  \n",
        "  #build model per fold\n",
        "  model=build_model()\n",
        "  model.fit(partial_train_data, partial_train_targets, epochs=num_epochs, batch_size=1, verbose=0)\n",
        "  val_mse, val_mae=model.evaluate(val_data, val_targets, verbose=0) #verbose=0 -> silent mode\n",
        "  all_scores.append(val_mae) #mean absolute error"
      ],
      "metadata": {
        "colab": {
          "base_uri": "https://localhost:8080/"
        },
        "id": "fTbCF_JgeeXp",
        "outputId": "457af234-7209-453c-f59b-c53cc512d2b2"
      },
      "execution_count": 59,
      "outputs": [
        {
          "output_type": "stream",
          "name": "stdout",
          "text": [
            "Processing fold # 0\n",
            "Processing fold # 1\n",
            "Processing fold # 2\n",
            "Processing fold # 3\n"
          ]
        }
      ]
    },
    {
      "cell_type": "code",
      "source": [
        "np.mean(all_scores)\n",
        "#for num_epochs=100, mean(mae)~2.4K which comparable to the 5K-50K price of real estate\n",
        "#if we try more epochs, e.g. 500, mean(mae)~"
      ],
      "metadata": {
        "colab": {
          "base_uri": "https://localhost:8080/"
        },
        "id": "XNyWNdgErMRj",
        "outputId": "75856d67-a8be-44d5-b2a8-2b23f6df0112"
      },
      "execution_count": 62,
      "outputs": [
        {
          "output_type": "execute_result",
          "data": {
            "text/plain": [
              "2.8600950241088867"
            ]
          },
          "metadata": {},
          "execution_count": 62
        }
      ]
    },
    {
      "cell_type": "markdown",
      "source": [
        "Increase the epochs for \"optimal\" mae, let's do it again and keep track of history"
      ],
      "metadata": {
        "id": "3XQVIDaTtx2x"
      }
    },
    {
      "cell_type": "code",
      "source": [
        "num_epochs=500\n",
        "all_mae_histories=[]\n",
        "for in range(k):\n",
        "  print('Processing fold #', i)\n",
        "  "
      ],
      "metadata": {
        "id": "tHdAs3AytxT1"
      },
      "execution_count": null,
      "outputs": []
    }
  ]
}