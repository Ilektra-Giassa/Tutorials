{
  "nbformat": 4,
  "nbformat_minor": 0,
  "metadata": {
    "colab": {
      "provenance": [],
      "authorship_tag": "ABX9TyMw4Exrgm1spHSIznhY3AiC",
      "include_colab_link": true
    },
    "kernelspec": {
      "name": "python3",
      "display_name": "Python 3"
    },
    "language_info": {
      "name": "python"
    }
  },
  "cells": [
    {
      "cell_type": "markdown",
      "metadata": {
        "id": "view-in-github",
        "colab_type": "text"
      },
      "source": [
        "<a href=\"https://colab.research.google.com/github/Ilektra-Giassa/Tutorials/blob/main/imdb.ipynb\" target=\"_parent\"><img src=\"https://colab.research.google.com/assets/colab-badge.svg\" alt=\"Open In Colab\"/></a>"
      ]
    },
    {
      "cell_type": "markdown",
      "source": [
        "### **What was that review again?**\n",
        "Playing around with IMDB ratings"
      ],
      "metadata": {
        "id": "o9yDF9HxQzxb"
      }
    },
    {
      "cell_type": "code",
      "execution_count": 2,
      "metadata": {
        "id": "M9nC8w88OHfj"
      },
      "outputs": [],
      "source": [
        "from keras.datasets import imdb\n",
        "(train_data, train_labels), (test_data, test_labels) = imdb.load_data(num_words = 10000)\n",
        "#restricted to the 10000 most frequent words\n",
        "#25K reviews for training, 25K for testing"
      ]
    },
    {
      "cell_type": "markdown",
      "source": [
        "Decode reviews"
      ],
      "metadata": {
        "id": "GnatKSwIPYhl"
      }
    },
    {
      "cell_type": "code",
      "source": [
        "word_index = imdb.get_word_index()\n",
        "#dictionary to map words to integer indices\n",
        "reverse_word_index = dict (\n",
        "    #reversion: maps integer indices to words\n",
        "    [(value, key) for (key, value) in word_index.items()])\n",
        "decoded_review = ''.join(\n",
        "    #decoding: offset by 3 - 0, 1, and 2 are reserved for padding, start of sequence, and unknown\n",
        "    [reverse_word_index.get(i-3, '?') for i in train_data[0]])"
      ],
      "metadata": {
        "id": "WOo4OU-pPEag"
      },
      "execution_count": 3,
      "outputs": []
    },
    {
      "cell_type": "markdown",
      "source": [
        "### Encode sequences to binary matrix (transform into tensors)\n",
        "We can either use embedding layer, or OHE. Let's try the latter."
      ],
      "metadata": {
        "id": "J1iJ4_zxcMh4"
      }
    },
    {
      "cell_type": "code",
      "source": [
        "import numpy as np\n",
        "def vectorize_sequences(sequences, dimension=10000):\n",
        "  results=np.zeros((len(sequences), dimension))\n",
        "  for i, sequence in enumerate(sequences):\n",
        "    results[i, sequence] = 1.\n",
        "  return results\n",
        "\n",
        "x_train=vectorize_sequences(train_data)\n",
        "x_test=vectorize_sequences(test_data)"
      ],
      "metadata": {
        "id": "q5KgW-zMQwB9"
      },
      "execution_count": 4,
      "outputs": []
    },
    {
      "cell_type": "code",
      "source": [
        "#vectorize labels too\n",
        "y_train=np.asarray(train_labels).astype('float32')\n",
        "y_test=np.asarray(test_labels).astype('float32')"
      ],
      "metadata": {
        "id": "qo2VjirYEKqM"
      },
      "execution_count": 5,
      "outputs": []
    },
    {
      "cell_type": "markdown",
      "source": [
        "### Build the net with 3 dense layers"
      ],
      "metadata": {
        "id": "_fNN9wVENQ_f"
      }
    },
    {
      "cell_type": "code",
      "source": [
        "from keras import models, layers\n",
        "model = models.Sequential()\n",
        "model.add(layers.Dense(16, activation='relu', input_shape=(10000,)))\n",
        "model.add(layers.Dense(16, activation='relu'))\n",
        "model.add(layers.Dense(1, activation='sigmoid'))"
      ],
      "metadata": {
        "id": "Zi6B5uMBNSlO"
      },
      "execution_count": 6,
      "outputs": []
    },
    {
      "cell_type": "markdown",
      "source": [
        "### Compile the model and configure the optimizer, the losses and metrics"
      ],
      "metadata": {
        "id": "BPGwIyG9QZ5d"
      }
    },
    {
      "cell_type": "code",
      "source": [
        "model.compile(optimizer='rmsprop', loss='binary_crossentropy', metrics=['accuracy'])\n",
        "from tensorflow.keras import optimizers, losses, metrics\n",
        "model.compile(optimizer=optimizers.RMSprop(learning_rate=0.001), loss=losses.binary_crossentropy, metrics=[metrics.binary_accuracy])"
      ],
      "metadata": {
        "id": "DIK0h_IyNPZf"
      },
      "execution_count": 7,
      "outputs": []
    },
    {
      "cell_type": "markdown",
      "source": [
        "### Validation dataset"
      ],
      "metadata": {
        "id": "zsYSrkYw_Y4l"
      }
    },
    {
      "cell_type": "code",
      "source": [
        "#10K reviews for validation, 15K for training\n",
        "x_val=x_train[:10000]\n",
        "y_val=y_train[:10000]\n",
        "partial_x_train=x_train[10000:]\n",
        "partial_y_train=y_train[10000:]"
      ],
      "metadata": {
        "id": "4V8euqAX_eHg"
      },
      "execution_count": 8,
      "outputs": []
    },
    {
      "cell_type": "markdown",
      "source": [
        "### Training"
      ],
      "metadata": {
        "id": "IlrdVmxlBW_c"
      }
    },
    {
      "cell_type": "code",
      "source": [
        "history=model.fit(partial_x_train, partial_y_train, epochs=20, batch_size=512, validation_data=(x_val, y_val))\n",
        "#20 epochs and 512 batch size, thus 15K/512 ~ 30 updates per epoch"
      ],
      "metadata": {
        "colab": {
          "base_uri": "https://localhost:8080/"
        },
        "id": "wBjF8J8NBV58",
        "outputId": "a237b76f-0585-4e0a-9189-5e0513de7de8"
      },
      "execution_count": 9,
      "outputs": [
        {
          "output_type": "stream",
          "name": "stdout",
          "text": [
            "Epoch 1/20\n",
            "30/30 [==============================] - 3s 62ms/step - loss: 0.5308 - binary_accuracy: 0.7930 - val_loss: 0.4109 - val_binary_accuracy: 0.8643\n",
            "Epoch 2/20\n",
            "30/30 [==============================] - 1s 35ms/step - loss: 0.3294 - binary_accuracy: 0.8999 - val_loss: 0.3176 - val_binary_accuracy: 0.8863\n",
            "Epoch 3/20\n",
            "30/30 [==============================] - 1s 35ms/step - loss: 0.2398 - binary_accuracy: 0.9231 - val_loss: 0.2827 - val_binary_accuracy: 0.8907\n",
            "Epoch 4/20\n",
            "30/30 [==============================] - 1s 35ms/step - loss: 0.1864 - binary_accuracy: 0.9397 - val_loss: 0.2857 - val_binary_accuracy: 0.8861\n",
            "Epoch 5/20\n",
            "30/30 [==============================] - 1s 34ms/step - loss: 0.1528 - binary_accuracy: 0.9514 - val_loss: 0.2773 - val_binary_accuracy: 0.8895\n",
            "Epoch 6/20\n",
            "30/30 [==============================] - 1s 35ms/step - loss: 0.1249 - binary_accuracy: 0.9605 - val_loss: 0.3052 - val_binary_accuracy: 0.8849\n",
            "Epoch 7/20\n",
            "30/30 [==============================] - 1s 35ms/step - loss: 0.1065 - binary_accuracy: 0.9686 - val_loss: 0.3108 - val_binary_accuracy: 0.8816\n",
            "Epoch 8/20\n",
            "30/30 [==============================] - 1s 35ms/step - loss: 0.0872 - binary_accuracy: 0.9747 - val_loss: 0.3238 - val_binary_accuracy: 0.8810\n",
            "Epoch 9/20\n",
            "30/30 [==============================] - 1s 34ms/step - loss: 0.0702 - binary_accuracy: 0.9808 - val_loss: 0.3478 - val_binary_accuracy: 0.8824\n",
            "Epoch 10/20\n",
            "30/30 [==============================] - 1s 35ms/step - loss: 0.0577 - binary_accuracy: 0.9858 - val_loss: 0.3698 - val_binary_accuracy: 0.8787\n",
            "Epoch 11/20\n",
            "30/30 [==============================] - 1s 34ms/step - loss: 0.0475 - binary_accuracy: 0.9890 - val_loss: 0.4223 - val_binary_accuracy: 0.8685\n",
            "Epoch 12/20\n",
            "30/30 [==============================] - 1s 35ms/step - loss: 0.0391 - binary_accuracy: 0.9911 - val_loss: 0.4270 - val_binary_accuracy: 0.8760\n",
            "Epoch 13/20\n",
            "30/30 [==============================] - 1s 34ms/step - loss: 0.0300 - binary_accuracy: 0.9937 - val_loss: 0.4563 - val_binary_accuracy: 0.8722\n",
            "Epoch 14/20\n",
            "30/30 [==============================] - 1s 35ms/step - loss: 0.0263 - binary_accuracy: 0.9938 - val_loss: 0.4897 - val_binary_accuracy: 0.8737\n",
            "Epoch 15/20\n",
            "30/30 [==============================] - 1s 34ms/step - loss: 0.0196 - binary_accuracy: 0.9971 - val_loss: 0.5233 - val_binary_accuracy: 0.8670\n",
            "Epoch 16/20\n",
            "30/30 [==============================] - 1s 35ms/step - loss: 0.0158 - binary_accuracy: 0.9976 - val_loss: 0.5756 - val_binary_accuracy: 0.8698\n",
            "Epoch 17/20\n",
            "30/30 [==============================] - 1s 34ms/step - loss: 0.0136 - binary_accuracy: 0.9983 - val_loss: 0.5840 - val_binary_accuracy: 0.8665\n",
            "Epoch 18/20\n",
            "30/30 [==============================] - 1s 35ms/step - loss: 0.0078 - binary_accuracy: 0.9995 - val_loss: 0.6863 - val_binary_accuracy: 0.8540\n",
            "Epoch 19/20\n",
            "30/30 [==============================] - 1s 34ms/step - loss: 0.0093 - binary_accuracy: 0.9989 - val_loss: 0.6544 - val_binary_accuracy: 0.8682\n",
            "Epoch 20/20\n",
            "30/30 [==============================] - 1s 34ms/step - loss: 0.0069 - binary_accuracy: 0.9989 - val_loss: 0.6799 - val_binary_accuracy: 0.8684\n"
          ]
        }
      ]
    },
    {
      "cell_type": "markdown",
      "source": [
        "### Plotting"
      ],
      "metadata": {
        "id": "6kNeHOlWDFTl"
      }
    },
    {
      "cell_type": "code",
      "source": [
        "import matplotlib.pyplot as plt\n",
        "history_dict=history.history\n",
        "history_dict.keys()"
      ],
      "metadata": {
        "colab": {
          "base_uri": "https://localhost:8080/"
        },
        "id": "FXqQo82YH7qc",
        "outputId": "32a57729-3927-4f28-d29f-caa14e3f47bc"
      },
      "execution_count": 10,
      "outputs": [
        {
          "output_type": "execute_result",
          "data": {
            "text/plain": [
              "dict_keys(['loss', 'binary_accuracy', 'val_loss', 'val_binary_accuracy'])"
            ]
          },
          "metadata": {},
          "execution_count": 10
        }
      ]
    },
    {
      "cell_type": "code",
      "source": [
        "import matplotlib.pyplot as plt\n",
        "history_dict=history.history\n",
        "history_dict.keys()\n",
        "loss_values=history_dict['loss']\n",
        "val_loss_values=history_dict['val_loss']\n",
        "epochs=range(1, 21)\n",
        "plt.plot(epochs, loss_values, 'bo', label='Training loss')\n",
        "plt.plot(epochs, val_loss_values, 'ro', label='Validation loss')\n",
        "plt.xlabel('Epochs')\n",
        "plt.ylabel('Loss')\n",
        "plt.legend()\n",
        "plt.show()"
      ],
      "metadata": {
        "colab": {
          "base_uri": "https://localhost:8080/",
          "height": 279
        },
        "id": "VmHGD3vhDkAo",
        "outputId": "9b718934-ceed-43e2-b816-2a5e26b61a35"
      },
      "execution_count": 11,
      "outputs": [
        {
          "output_type": "display_data",
          "data": {
            "text/plain": [
              "<Figure size 432x288 with 1 Axes>"
            ],
            "image/png": "[encoded data removed]"
          },
          "metadata": {
            "needs_background": "light"
          }
        }
      ]
    },
    {
      "cell_type": "code",
      "source": [
        "acc_values=history_dict['binary_accuracy']\n",
        "val_acc_values=history_dict['val_binary_accuracy']\n",
        "epochs=range(1, 21)\n",
        "plt.plot(epochs, acc_values, 'go', label=\"Training accuracy\")\n",
        "plt.plot(epochs, val_acc_values, 'yo', label=\"Validation accuracy\")\n",
        "plt.xlabel('Epochs')\n",
        "plt.ylabel('Accuracy')\n",
        "plt.legend()\n",
        "plt.show()\n",
        "#Validation accuracy declines after 5th epoch - overfitting"
      ],
      "metadata": {
        "colab": {
          "base_uri": "https://localhost:8080/",
          "height": 279
        },
        "id": "RhE2W2t0Dz0J",
        "outputId": "68fbf6e9-daec-4949-8b5c-74d48a422c87"
      },
      "execution_count": 12,
      "outputs": [
        {
          "output_type": "display_data",
          "data": {
            "text/plain": [
              "<Figure size 432x288 with 1 Axes>"
            ],
            "image/png": "[encoded data removed]"
          },
          "metadata": {
            "needs_background": "light"
          }
        }
      ]
    },
    {
      "cell_type": "markdown",
      "source": [
        "### Retrain with 4 epochs, more than that and we overfit!"
      ],
      "metadata": {
        "id": "z0no1VFCKz6X"
      }
    },
    {
      "cell_type": "code",
      "source": [
        "models=models.Sequential()\n",
        "model.add(layers.Dense(16, activation='relu', input_shape=(10000,)))\n",
        "model.add(layers.Dense(512, activation='relu'))\n",
        "model.add(layers.Dense(1, activation='sigmoid'))\n",
        "model.compile(optimizer=optimizers.RMSprop(learning_rate=0.001), loss=losses.binary_crossentropy, metrics=[metrics.binary_accuracy])"
      ],
      "metadata": {
        "id": "3V1Cvli8LC7a"
      },
      "execution_count": 13,
      "outputs": []
    },
    {
      "cell_type": "code",
      "source": [
        "model.fit(x_train, y_train, epochs=4, batch_size=512)\n",
        "results=model.evaluate(x_test, y_test)"
      ],
      "metadata": {
        "colab": {
          "base_uri": "https://localhost:8080/"
        },
        "id": "SmDH5bczL_Os",
        "outputId": "cab29d9f-f766-49f9-a04f-7c99caa17b5d"
      },
      "execution_count": 14,
      "outputs": [
        {
          "output_type": "stream",
          "name": "stdout",
          "text": [
            "Epoch 1/4\n",
            "49/49 [==============================] - 2s 29ms/step - loss: 0.4205 - binary_accuracy: 0.9376\n",
            "Epoch 2/4\n",
            "49/49 [==============================] - 1s 29ms/step - loss: 0.1876 - binary_accuracy: 0.9595\n",
            "Epoch 3/4\n",
            "49/49 [==============================] - 1s 30ms/step - loss: 0.1327 - binary_accuracy: 0.9676\n",
            "Epoch 4/4\n",
            "49/49 [==============================] - 1s 29ms/step - loss: 0.1145 - binary_accuracy: 0.9734\n",
            "782/782 [==============================] - 2s 2ms/step - loss: 0.4845 - binary_accuracy: 0.8567\n"
          ]
        }
      ]
    },
    {
      "cell_type": "code",
      "source": [
        "model.predict(x_test)\n",
        "#likelihood of positive review"
      ],
      "metadata": {
        "colab": {
          "base_uri": "https://localhost:8080/"
        },
        "id": "koI_AXbCMylZ",
        "outputId": "03815024-c5f2-447e-c7b5-7e9ea5832498"
      },
      "execution_count": 15,
      "outputs": [
        {
          "output_type": "execute_result",
          "data": {
            "text/plain": [
              "array([[0.02335694],\n",
              "       [0.983078  ],\n",
              "       [0.9800374 ],\n",
              "       ...,\n",
              "       [0.0261949 ],\n",
              "       [0.02513793],\n",
              "       [0.9439279 ]], dtype=float32)"
            ]
          },
          "metadata": {},
          "execution_count": 15
        }
      ]
    },
    {
      "cell_type": "markdown",
      "source": [
        "### Evaluate on test data"
      ],
      "metadata": {
        "id": "cP3wTQc622SW"
      }
    },
    {
      "cell_type": "code",
      "source": [
        "results=model.evaluate(x_test, y_test)\n",
        "results"
      ],
      "metadata": {
        "colab": {
          "base_uri": "https://localhost:8080/"
        },
        "id": "9fxInKMG2-ZR",
        "outputId": "399e17e6-f156-48a7-eeca-1b229a3f3bff"
      },
      "execution_count": 16,
      "outputs": [
        {
          "output_type": "stream",
          "name": "stdout",
          "text": [
            "782/782 [==============================] - 2s 2ms/step - loss: 0.4845 - binary_accuracy: 0.8567\n"
          ]
        },
        {
          "output_type": "execute_result",
          "data": {
            "text/plain": [
              "[0.4844692647457123, 0.856719970703125]"
            ]
          },
          "metadata": {},
          "execution_count": 16
        }
      ]
    }
  ]
}