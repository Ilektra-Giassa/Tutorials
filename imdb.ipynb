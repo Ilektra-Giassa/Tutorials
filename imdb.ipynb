{
  "nbformat": 4,
  "nbformat_minor": 0,
  "metadata": {
    "colab": {
      "provenance": [],
      "authorship_tag": "ABX9TyNiRKrcIm+QDh2I+bAZPy3Q",
      "include_colab_link": true
    },
    "kernelspec": {
      "name": "python3",
      "display_name": "Python 3"
    },
    "language_info": {
      "name": "python"
    }
  },
  "cells": [
    {
      "cell_type": "markdown",
      "metadata": {
        "id": "view-in-github",
        "colab_type": "text"
      },
      "source": [
        "<a href=\"https://colab.research.google.com/github/Ilektra-Giassa/Tutorials/blob/main/imdb.ipynb\" target=\"_parent\"><img src=\"https://colab.research.google.com/assets/colab-badge.svg\" alt=\"Open In Colab\"/></a>"
      ]
    },
    {
      "cell_type": "markdown",
      "source": [
        "### **What was that review again?**\n",
        "Playing around with IMDB ratings"
      ],
      "metadata": {
        "id": "o9yDF9HxQzxb"
      }
    },
    {
      "cell_type": "code",
      "execution_count": 2,
      "metadata": {
        "colab": {
          "base_uri": "https://localhost:8080/"
        },
        "id": "M9nC8w88OHfj",
        "outputId": "38c3a774-d336-42b9-d518-e04438ad71ae"
      },
      "outputs": [
        {
          "output_type": "stream",
          "name": "stdout",
          "text": [
            "Downloading data from https://storage.googleapis.com/tensorflow/tf-keras-datasets/imdb.npz\n",
            "17465344/17464789 [==============================] - 1s 0us/step\n",
            "17473536/17464789 [==============================] - 1s 0us/step\n"
          ]
        }
      ],
      "source": [
        "from keras.datasets import imdb\n",
        "(train_data, train_labels), (test_data, test_labels) = imdb.load_data(num_words = 10000)\n",
        "#restricted to the 10000 most frequent words\n",
        "#25K reviews for training, 25K for testing"
      ]
    },
    {
      "cell_type": "markdown",
      "source": [
        "Decode reviews"
      ],
      "metadata": {
        "id": "GnatKSwIPYhl"
      }
    },
    {
      "cell_type": "code",
      "source": [
        "word_index = imdb.get_word_index()\n",
        "#dictionary to map words to integer indices\n",
        "reverse_word_index = dict (\n",
        "    #reversion: maps integer indices to words\n",
        "    [(value, key) for (key, value) in word_index.items()])\n",
        "decoded_review = ''.join(\n",
        "    #decoding: offset by 3 - 0, 1, and 2 are reserved for padding, start of sequence, and unknown\n",
        "    [reverse_word_index.get(i-3, '?') for i in train_data[0]])"
      ],
      "metadata": {
        "colab": {
          "base_uri": "https://localhost:8080/"
        },
        "id": "WOo4OU-pPEag",
        "outputId": "a8de7322-6e77-4ac9-9c0b-a153963bd75f"
      },
      "execution_count": 3,
      "outputs": [
        {
          "output_type": "stream",
          "name": "stdout",
          "text": [
            "Downloading data from https://storage.googleapis.com/tensorflow/tf-keras-datasets/imdb_word_index.json\n",
            "1646592/1641221 [==============================] - 0s 0us/step\n",
            "1654784/1641221 [==============================] - 0s 0us/step\n"
          ]
        }
      ]
    },
    {
      "cell_type": "markdown",
      "source": [
        "### Encode sequences to binary matrix (transform into tensors)\n",
        "We can either use embedding layer, or OHE. Let's try the latter."
      ],
      "metadata": {
        "id": "J1iJ4_zxcMh4"
      }
    },
    {
      "cell_type": "code",
      "source": [
        "import numpy as np\n",
        "def vectorize_sequences(sequences, dimension=10000):\n",
        "  results=np.zeros((len(sequences), dimension))\n",
        "  for i, sequence in enumerate(sequences):\n",
        "    results[i, sequence] = 1.\n",
        "  return results\n",
        "\n",
        "x_train=vectorize_sequences(train_data)\n",
        "x_test=vectorize_sequences(test_data)"
      ],
      "metadata": {
        "id": "q5KgW-zMQwB9"
      },
      "execution_count": 4,
      "outputs": []
    },
    {
      "cell_type": "code",
      "source": [
        "#vectorize labels too\n",
        "y_train=np.asarray(train_labels).astype('float32')\n",
        "y_test=np.asarray(test_labels).astype('float32')"
      ],
      "metadata": {
        "id": "qo2VjirYEKqM"
      },
      "execution_count": 10,
      "outputs": []
    },
    {
      "cell_type": "markdown",
      "source": [
        "### Build the net with 3 dense layers"
      ],
      "metadata": {
        "id": "_fNN9wVENQ_f"
      }
    },
    {
      "cell_type": "code",
      "source": [
        "from keras import models, layers\n",
        "model = models.Sequential()\n",
        "model.add(layers.Dense(16, activation='relu', input_shape=(10000,)))\n",
        "model.add(layers.Dense(16, activation='relu'))\n",
        "model.add(layers.Dense(1, activation='sigmoid'))"
      ],
      "metadata": {
        "id": "Zi6B5uMBNSlO"
      },
      "execution_count": 5,
      "outputs": []
    },
    {
      "cell_type": "markdown",
      "source": [
        "### Compile the model and configure the optimizer, the losses and metrics"
      ],
      "metadata": {
        "id": "BPGwIyG9QZ5d"
      }
    },
    {
      "cell_type": "code",
      "source": [
        "model.compile(optimizer='rmsprop', loss='binary_crossentropy', metrics=['accuracy'])\n",
        "from tensorflow.keras import optimizers, losses, metrics\n",
        "model.compile(optimizer=optimizers.RMSprop(learning_rate=0.001), loss=losses.binary_crossentropy, metrics=[metrics.binary_accuracy])"
      ],
      "metadata": {
        "id": "DIK0h_IyNPZf"
      },
      "execution_count": 23,
      "outputs": []
    },
    {
      "cell_type": "markdown",
      "source": [
        "### Validation dataset"
      ],
      "metadata": {
        "id": "zsYSrkYw_Y4l"
      }
    },
    {
      "cell_type": "code",
      "source": [
        "#10K reviews for validation, 15K for training\n",
        "x_val=x_train[:10000]\n",
        "y_val=y_train[:10000]\n",
        "partial_x_train=x_train[10000:]\n",
        "partial_y_train=y_train[10000:]"
      ],
      "metadata": {
        "id": "4V8euqAX_eHg"
      },
      "execution_count": 11,
      "outputs": []
    },
    {
      "cell_type": "markdown",
      "source": [
        "### Training"
      ],
      "metadata": {
        "id": "IlrdVmxlBW_c"
      }
    },
    {
      "cell_type": "code",
      "source": [
        "history=model.fit(partial_x_train, partial_y_train, epochs=20, batch_size=512, validation_data=(x_val, y_val))\n",
        "#20 epochs and 512 batch size, thus 15K/512 ~ 30 updates per epoch"
      ],
      "metadata": {
        "colab": {
          "base_uri": "https://localhost:8080/"
        },
        "id": "wBjF8J8NBV58",
        "outputId": "bd42bcaa-b6f1-444c-f0c0-054ef8749165"
      },
      "execution_count": 12,
      "outputs": [
        {
          "output_type": "stream",
          "name": "stdout",
          "text": [
            "Epoch 1/20\n",
            "30/30 [==============================] - 2s 46ms/step - loss: 0.5023 - binary_accuracy: 0.7999 - val_loss: 0.3872 - val_binary_accuracy: 0.8606\n",
            "Epoch 2/20\n",
            "30/30 [==============================] - 1s 33ms/step - loss: 0.3009 - binary_accuracy: 0.9011 - val_loss: 0.3004 - val_binary_accuracy: 0.8838\n",
            "Epoch 3/20\n",
            "30/30 [==============================] - 1s 33ms/step - loss: 0.2176 - binary_accuracy: 0.9275 - val_loss: 0.2785 - val_binary_accuracy: 0.8891\n",
            "Epoch 4/20\n",
            "30/30 [==============================] - 1s 32ms/step - loss: 0.1704 - binary_accuracy: 0.9437 - val_loss: 0.2754 - val_binary_accuracy: 0.8888\n",
            "Epoch 5/20\n",
            "30/30 [==============================] - 1s 32ms/step - loss: 0.1430 - binary_accuracy: 0.9541 - val_loss: 0.2806 - val_binary_accuracy: 0.8883\n",
            "Epoch 6/20\n",
            "30/30 [==============================] - 1s 32ms/step - loss: 0.1141 - binary_accuracy: 0.9646 - val_loss: 0.3061 - val_binary_accuracy: 0.8849\n",
            "Epoch 7/20\n",
            "30/30 [==============================] - 1s 33ms/step - loss: 0.0970 - binary_accuracy: 0.9712 - val_loss: 0.3117 - val_binary_accuracy: 0.8850\n",
            "Epoch 8/20\n",
            "30/30 [==============================] - 1s 32ms/step - loss: 0.0795 - binary_accuracy: 0.9769 - val_loss: 0.3355 - val_binary_accuracy: 0.8824\n",
            "Epoch 9/20\n",
            "30/30 [==============================] - 1s 34ms/step - loss: 0.0656 - binary_accuracy: 0.9820 - val_loss: 0.3633 - val_binary_accuracy: 0.8788\n",
            "Epoch 10/20\n",
            "30/30 [==============================] - 1s 32ms/step - loss: 0.0518 - binary_accuracy: 0.9872 - val_loss: 0.3940 - val_binary_accuracy: 0.8723\n",
            "Epoch 11/20\n",
            "30/30 [==============================] - 1s 33ms/step - loss: 0.0437 - binary_accuracy: 0.9900 - val_loss: 0.4114 - val_binary_accuracy: 0.8736\n",
            "Epoch 12/20\n",
            "30/30 [==============================] - 1s 32ms/step - loss: 0.0358 - binary_accuracy: 0.9923 - val_loss: 0.4446 - val_binary_accuracy: 0.8753\n",
            "Epoch 13/20\n",
            "30/30 [==============================] - 1s 33ms/step - loss: 0.0308 - binary_accuracy: 0.9935 - val_loss: 0.4685 - val_binary_accuracy: 0.8719\n",
            "Epoch 14/20\n",
            "30/30 [==============================] - 1s 33ms/step - loss: 0.0220 - binary_accuracy: 0.9964 - val_loss: 0.5056 - val_binary_accuracy: 0.8729\n",
            "Epoch 15/20\n",
            "30/30 [==============================] - 1s 32ms/step - loss: 0.0227 - binary_accuracy: 0.9948 - val_loss: 0.5313 - val_binary_accuracy: 0.8725\n",
            "Epoch 16/20\n",
            "30/30 [==============================] - 1s 32ms/step - loss: 0.0114 - binary_accuracy: 0.9993 - val_loss: 0.5766 - val_binary_accuracy: 0.8638\n",
            "Epoch 17/20\n",
            "30/30 [==============================] - 1s 33ms/step - loss: 0.0129 - binary_accuracy: 0.9985 - val_loss: 0.6026 - val_binary_accuracy: 0.8700\n",
            "Epoch 18/20\n",
            "30/30 [==============================] - 1s 33ms/step - loss: 0.0113 - binary_accuracy: 0.9978 - val_loss: 0.6272 - val_binary_accuracy: 0.8682\n",
            "Epoch 19/20\n",
            "30/30 [==============================] - 1s 33ms/step - loss: 0.0053 - binary_accuracy: 0.9997 - val_loss: 0.6805 - val_binary_accuracy: 0.8659\n",
            "Epoch 20/20\n",
            "30/30 [==============================] - 1s 33ms/step - loss: 0.0093 - binary_accuracy: 0.9974 - val_loss: 0.6973 - val_binary_accuracy: 0.8672\n"
          ]
        }
      ]
    },
    {
      "cell_type": "markdown",
      "source": [
        "### Plotting"
      ],
      "metadata": {
        "id": "6kNeHOlWDFTl"
      }
    },
    {
      "cell_type": "code",
      "source": [
        "import matplotlib.pyplot as plt\n",
        "history_dict=history.history\n",
        "history_dict.keys()"
      ],
      "metadata": {
        "colab": {
          "base_uri": "https://localhost:8080/"
        },
        "id": "FXqQo82YH7qc",
        "outputId": "3b786abe-4325-40cd-8bfe-56593177938f"
      },
      "execution_count": 20,
      "outputs": [
        {
          "output_type": "execute_result",
          "data": {
            "text/plain": [
              "dict_keys(['loss', 'binary_accuracy', 'val_loss', 'val_binary_accuracy'])"
            ]
          },
          "metadata": {},
          "execution_count": 20
        }
      ]
    },
    {
      "cell_type": "code",
      "source": [
        "import matplotlib.pyplot as plt\n",
        "history_dict=history.history\n",
        "history_dict.keys()\n",
        "loss_values=history_dict['loss']\n",
        "val_loss_values=history_dict['val_loss']\n",
        "epochs=range(1, 21)\n",
        "plt.plot(epochs, loss_values, 'bo', label='Training loss')\n",
        "plt.plot(epochs, val_loss_values, 'ro', label='Validation loss')\n",
        "plt.xlabel('Epochs')\n",
        "plt.ylabel('Loss')\n",
        "plt.legend()\n",
        "plt.show()"
      ],
      "metadata": {
        "colab": {
          "base_uri": "https://localhost:8080/",
          "height": 279
        },
        "id": "VmHGD3vhDkAo",
        "outputId": "f68c3b8f-23c1-4c63-f56c-ca01a8418838"
      },
      "execution_count": 35,
      "outputs": [
        {
          "output_type": "display_data",
          "data": {
            "text/plain": [
              "<Figure size 432x288 with 1 Axes>"
            ],
            "image/png": "[encoded data removed]"
          },
          "metadata": {
            "needs_background": "light"
          }
        }
      ]
    },
    {
      "cell_type": "code",
      "source": [
        "acc_values=history_dict['binary_accuracy']\n",
        "val_acc_values=history_dict['val_binary_accuracy']\n",
        "epochs=range(1, 21)\n",
        "plt.plot(epochs, acc_values, 'go', label=\"Training accuracy\")\n",
        "plt.plot(epochs, val_acc_values, 'yo', label=\"Validation accuracy\")\n",
        "plt.xlabel('Epochs')\n",
        "plt.ylabel('Accuracy')\n",
        "plt.legend()\n",
        "plt.show()\n",
        "#Validation accuracy declines after 5th epoch - overfitting"
      ],
      "metadata": {
        "colab": {
          "base_uri": "https://localhost:8080/",
          "height": 279
        },
        "id": "RhE2W2t0Dz0J",
        "outputId": "5d67933f-3fed-4ed1-fe39-40604ee8e2a9"
      },
      "execution_count": 36,
      "outputs": [
        {
          "output_type": "display_data",
          "data": {
            "text/plain": [
              "<Figure size 432x288 with 1 Axes>"
            ],
            "image/png": "[encoded data removed]"
          },
          "metadata": {
            "needs_background": "light"
          }
        }
      ]
    },
    {
      "cell_type": "markdown",
      "source": [
        "### Retrain with 4 epochs, more than that and we overfit!"
      ],
      "metadata": {
        "id": "z0no1VFCKz6X"
      }
    },
    {
      "cell_type": "code",
      "source": [
        "models=models.Sequential()\n",
        "model.add(layers.Dense(16, activation='relu', input_shape=(10000,)))\n",
        "model.add(layers.Dense(512, activation='relu'))\n",
        "model.add(layers.Dense(1, activation='sigmoid'))\n",
        "model.compile(optimizer=optimizers.RMSprop(learning_rate=0.001), loss=losses.binary_crossentropy, metrics=[metrics.binary_accuracy])"
      ],
      "metadata": {
        "id": "3V1Cvli8LC7a"
      },
      "execution_count": 38,
      "outputs": []
    },
    {
      "cell_type": "code",
      "source": [
        "model.fit(x_train, y_train, epochs=4, batch_size=512)\n",
        "results=model.evaluate(x_test, y_test)"
      ],
      "metadata": {
        "colab": {
          "base_uri": "https://localhost:8080/"
        },
        "id": "SmDH5bczL_Os",
        "outputId": "f0b924a1-ea07-4a9a-ba4e-81fb9d9c0006"
      },
      "execution_count": 39,
      "outputs": [
        {
          "output_type": "stream",
          "name": "stdout",
          "text": [
            "Epoch 1/4\n",
            "49/49 [==============================] - 2s 30ms/step - loss: 0.4466 - binary_accuracy: 0.9252\n",
            "Epoch 2/4\n",
            "49/49 [==============================] - 2s 41ms/step - loss: 0.2416 - binary_accuracy: 0.9597\n",
            "Epoch 3/4\n",
            "49/49 [==============================] - 2s 31ms/step - loss: 0.1534 - binary_accuracy: 0.9670\n",
            "Epoch 4/4\n",
            "49/49 [==============================] - 1s 30ms/step - loss: 0.1190 - binary_accuracy: 0.9730\n",
            "782/782 [==============================] - 2s 2ms/step - loss: 0.4615 - binary_accuracy: 0.8601\n"
          ]
        }
      ]
    },
    {
      "cell_type": "code",
      "source": [
        "model.predict(x_test)\n",
        "#likelihood of positive review"
      ],
      "metadata": {
        "colab": {
          "base_uri": "https://localhost:8080/"
        },
        "id": "koI_AXbCMylZ",
        "outputId": "73d86f35-02c9-4a24-9d94-51abc310302d"
      },
      "execution_count": 40,
      "outputs": [
        {
          "output_type": "execute_result",
          "data": {
            "text/plain": [
              "array([[0.0281319 ],\n",
              "       [0.97953284],\n",
              "       [0.9790646 ],\n",
              "       ...,\n",
              "       [0.02888918],\n",
              "       [0.0280742 ],\n",
              "       [0.9592608 ]], dtype=float32)"
            ]
          },
          "metadata": {},
          "execution_count": 40
        }
      ]
    }
  ]
}