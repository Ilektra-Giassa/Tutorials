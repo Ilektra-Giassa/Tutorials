{
  "nbformat": 4,
  "nbformat_minor": 0,
  "metadata": {
    "colab": {
      "provenance": [],
      "authorship_tag": "ABX9TyO//jXUtmP2+kukpBq7xLgT",
      "include_colab_link": true
    },
    "kernelspec": {
      "name": "python3",
      "display_name": "Python 3"
    },
    "language_info": {
      "name": "python"
    }
  },
  "cells": [
    {
      "cell_type": "markdown",
      "metadata": {
        "id": "view-in-github",
        "colab_type": "text"
      },
      "source": [
        "<a href=\"https://colab.research.google.com/github/Ilektra-Giassa/Tutorials/blob/main/reuters.ipynb\" target=\"_parent\"><img src=\"https://colab.research.google.com/assets/colab-badge.svg\" alt=\"Open In Colab\"/></a>"
      ]
    },
    {
      "cell_type": "markdown",
      "source": [
        "# Exclusive news on 46 topics!"
      ],
      "metadata": {
        "id": "ORLvdYleN1Qu"
      }
    },
    {
      "cell_type": "code",
      "execution_count": 64,
      "metadata": {
        "id": "h8hj-AL6NLYw"
      },
      "outputs": [],
      "source": [
        "from keras.datasets import reuters\n",
        "(train_data, train_labels), (test_data, test_labels) = reuters.load_data(num_words=10000)\n",
        "#loading the 10K most frequent words\n",
        "#8982 for train, 2246 for test dataset"
      ]
    },
    {
      "cell_type": "code",
      "source": [
        "max(train_labels)-min(train_labels)\n",
        "#46 newswire topics"
      ],
      "metadata": {
        "colab": {
          "base_uri": "https://localhost:8080/"
        },
        "id": "4V1PyYUJUvaX",
        "outputId": "d9a840dc-6aac-4e75-a530-c5a4750db1d3"
      },
      "execution_count": 65,
      "outputs": [
        {
          "output_type": "execute_result",
          "data": {
            "text/plain": [
              "45"
            ]
          },
          "metadata": {},
          "execution_count": 65
        }
      ]
    },
    {
      "cell_type": "markdown",
      "source": [
        "### Decode the newswires"
      ],
      "metadata": {
        "id": "nperoqLFSpyg"
      }
    },
    {
      "cell_type": "code",
      "source": [
        "word_index=reuters.get_word_index()\n",
        "reverse_word_index=dict([(value, key) for (key, value) in word_index.items()])\n",
        "decoded_newswire=' '.join([reverse_word_index.get(i-3, '?') for i in train_data[0]])\n",
        "#indices 0, 1, 2 for padding, start of sequence, and unknown"
      ],
      "metadata": {
        "id": "0cJ1fLmiSoe4"
      },
      "execution_count": 66,
      "outputs": []
    },
    {
      "cell_type": "markdown",
      "source": [
        "### Vectorize the data"
      ],
      "metadata": {
        "id": "G0-oM9tjbZ1o"
      }
    },
    {
      "cell_type": "code",
      "source": [
        "import numpy as np\n",
        "def vectorize(sequences, dimension=10000):\n",
        "  results=np.zeros((len(sequences), dimension))\n",
        "  for i, sequence in enumerate(sequences):\n",
        "    results[i, sequence]=1.\n",
        "  return results\n",
        "\n",
        "x_train=vectorize(train_data)\n",
        "x_test=vectorize(test_data)"
      ],
      "metadata": {
        "id": "HPegyqNfbdLm"
      },
      "execution_count": 67,
      "outputs": []
    },
    {
      "cell_type": "markdown",
      "source": [
        "### OHE of labels"
      ],
      "metadata": {
        "id": "E5Kqa9sfdGYK"
      }
    },
    {
      "cell_type": "code",
      "source": [
        "def ohe(labels, dimension=46):\n",
        "  results=np.zeros((len(labels), dimension))\n",
        "  for i, labels in enumerate(labels):\n",
        "    results[i, labels]=1.\n",
        "  return results\n",
        "\n",
        "ohe_train_labels=ohe(train_labels)\n",
        "ohe_test_labels=ohe(test_labels)"
      ],
      "metadata": {
        "id": "rKXAr5E0dKnc"
      },
      "execution_count": 122,
      "outputs": []
    },
    {
      "cell_type": "markdown",
      "source": [
        "### Build the net"
      ],
      "metadata": {
        "id": "Eu2XHESheE08"
      }
    },
    {
      "cell_type": "code",
      "source": [
        "from keras import models, layers\n",
        "model=models.Sequential()\n",
        "model.add(layers.Dense(64, activation='relu', input_shape=(10000,)))\n",
        "model.add(layers.Dense(64, activation='relu'))\n",
        "model.add(layers.Dense(46, activation='softmax'))"
      ],
      "metadata": {
        "id": "hLjnnYLieF7E"
      },
      "execution_count": 124,
      "outputs": []
    },
    {
      "cell_type": "markdown",
      "source": [
        "### Compile model"
      ],
      "metadata": {
        "id": "PzwUogmPwWmP"
      }
    },
    {
      "cell_type": "code",
      "source": [
        "model.compile(optimizer='rmsprop', loss='categorical_crossentropy', metrics=['accuracy'])"
      ],
      "metadata": {
        "id": "FPGY7AFWeEfF"
      },
      "execution_count": 125,
      "outputs": []
    },
    {
      "cell_type": "markdown",
      "source": [
        "### Validation dataset"
      ],
      "metadata": {
        "id": "Z2WgudUgsetx"
      }
    },
    {
      "cell_type": "code",
      "source": [
        "x_val=x_train[:1000]\n",
        "y_val=ohe_train_labels[:1000]\n",
        "x_partial_train=x_train[1000:]\n",
        "y_partial_train=ohe_train_labels[1000:]"
      ],
      "metadata": {
        "id": "qyIrzO0TseUk"
      },
      "execution_count": 126,
      "outputs": []
    },
    {
      "cell_type": "code",
      "source": [
        "history=model.fit(x_partial_train,\n",
        "                  y_partial_train, \n",
        "                  epochs=20, \n",
        "                  batch_size=512, \n",
        "                  validation_data=(x_val, y_val))"
      ],
      "metadata": {
        "colab": {
          "base_uri": "https://localhost:8080/"
        },
        "id": "moZwSHXptnus",
        "outputId": "b3e5bde6-203d-4df2-90ee-326e01a64136"
      },
      "execution_count": 127,
      "outputs": [
        {
          "output_type": "stream",
          "name": "stdout",
          "text": [
            "Epoch 1/20\n",
            "16/16 [==============================] - 2s 68ms/step - loss: 2.7684 - accuracy: 0.5212 - val_loss: 1.8670 - val_accuracy: 0.6360\n",
            "Epoch 2/20\n",
            "16/16 [==============================] - 1s 52ms/step - loss: 1.4987 - accuracy: 0.7015 - val_loss: 1.3803 - val_accuracy: 0.7090\n",
            "Epoch 3/20\n",
            "16/16 [==============================] - 1s 53ms/step - loss: 1.1008 - accuracy: 0.7671 - val_loss: 1.1748 - val_accuracy: 0.7470\n",
            "Epoch 4/20\n",
            "16/16 [==============================] - 1s 51ms/step - loss: 0.8695 - accuracy: 0.8165 - val_loss: 1.1706 - val_accuracy: 0.7320\n",
            "Epoch 5/20\n",
            "16/16 [==============================] - 1s 52ms/step - loss: 0.7043 - accuracy: 0.8532 - val_loss: 1.0847 - val_accuracy: 0.7460\n",
            "Epoch 6/20\n",
            "16/16 [==============================] - 1s 51ms/step - loss: 0.5692 - accuracy: 0.8834 - val_loss: 0.9748 - val_accuracy: 0.8030\n",
            "Epoch 7/20\n",
            "16/16 [==============================] - 1s 51ms/step - loss: 0.4595 - accuracy: 0.9072 - val_loss: 0.9452 - val_accuracy: 0.8050\n",
            "Epoch 8/20\n",
            "16/16 [==============================] - 1s 51ms/step - loss: 0.3731 - accuracy: 0.9232 - val_loss: 0.9208 - val_accuracy: 0.8160\n",
            "Epoch 9/20\n",
            "16/16 [==============================] - 1s 50ms/step - loss: 0.3086 - accuracy: 0.9362 - val_loss: 0.9462 - val_accuracy: 0.8090\n",
            "Epoch 10/20\n",
            "16/16 [==============================] - 1s 51ms/step - loss: 0.2576 - accuracy: 0.9426 - val_loss: 0.9420 - val_accuracy: 0.8050\n",
            "Epoch 11/20\n",
            "16/16 [==============================] - 1s 51ms/step - loss: 0.2261 - accuracy: 0.9470 - val_loss: 0.9117 - val_accuracy: 0.8260\n",
            "Epoch 12/20\n",
            "16/16 [==============================] - 1s 50ms/step - loss: 0.1945 - accuracy: 0.9485 - val_loss: 0.9455 - val_accuracy: 0.8120\n",
            "Epoch 13/20\n",
            "16/16 [==============================] - 1s 54ms/step - loss: 0.1740 - accuracy: 0.9523 - val_loss: 0.9603 - val_accuracy: 0.8200\n",
            "Epoch 14/20\n",
            "16/16 [==============================] - 1s 50ms/step - loss: 0.1580 - accuracy: 0.9545 - val_loss: 0.9771 - val_accuracy: 0.8150\n",
            "Epoch 15/20\n",
            "16/16 [==============================] - 1s 52ms/step - loss: 0.1476 - accuracy: 0.9546 - val_loss: 1.0169 - val_accuracy: 0.8160\n",
            "Epoch 16/20\n",
            "16/16 [==============================] - 1s 50ms/step - loss: 0.1362 - accuracy: 0.9565 - val_loss: 1.0363 - val_accuracy: 0.8100\n",
            "Epoch 17/20\n",
            "16/16 [==============================] - 1s 51ms/step - loss: 0.1287 - accuracy: 0.9557 - val_loss: 1.0438 - val_accuracy: 0.8140\n",
            "Epoch 18/20\n",
            "16/16 [==============================] - 1s 51ms/step - loss: 0.1223 - accuracy: 0.9577 - val_loss: 1.0795 - val_accuracy: 0.8070\n",
            "Epoch 19/20\n",
            "16/16 [==============================] - 1s 49ms/step - loss: 0.1199 - accuracy: 0.9558 - val_loss: 1.0645 - val_accuracy: 0.8100\n",
            "Epoch 20/20\n",
            "16/16 [==============================] - 1s 52ms/step - loss: 0.1148 - accuracy: 0.9584 - val_loss: 1.0955 - val_accuracy: 0.8070\n"
          ]
        }
      ]
    },
    {
      "cell_type": "code",
      "source": [
        "history.history.keys()"
      ],
      "metadata": {
        "colab": {
          "base_uri": "https://localhost:8080/"
        },
        "id": "pxrYyHO80JuE",
        "outputId": "0231ffcd-bea5-454e-f251-7d4ff2e50d5c"
      },
      "execution_count": 128,
      "outputs": [
        {
          "output_type": "execute_result",
          "data": {
            "text/plain": [
              "dict_keys(['loss', 'accuracy', 'val_loss', 'val_accuracy'])"
            ]
          },
          "metadata": {},
          "execution_count": 128
        }
      ]
    },
    {
      "cell_type": "markdown",
      "source": [
        "### Plot loss and accuracy"
      ],
      "metadata": {
        "id": "W6ejlteqtY4l"
      }
    },
    {
      "cell_type": "code",
      "source": [
        "import matplotlib.pyplot as plt\n",
        "loss=history.history['loss']\n",
        "val_loss=history.history['val_loss']\n",
        "epochs=range(1, 21)\n",
        "\n",
        "plt.plot(epochs, loss, 'bo', label='Training loss')\n",
        "plt.plot(epochs, val_loss, 'ro', label='Validation loss')\n",
        "plt.xlabel('Epochs')\n",
        "plt.ylabel('Loss')\n",
        "plt.legend()\n",
        "plt.show()"
      ],
      "metadata": {
        "colab": {
          "base_uri": "https://localhost:8080/",
          "height": 279
        },
        "id": "tChRdUF7ye_5",
        "outputId": "c7ef1b2a-c561-4417-f5cf-02ac3f083286"
      },
      "execution_count": 129,
      "outputs": [
        {
          "output_type": "display_data",
          "data": {
            "text/plain": [
              "<Figure size 432x288 with 1 Axes>"
            ],
            "image/png": "[encoded data removed]"
          },
          "metadata": {
            "needs_background": "light"
          }
        }
      ]
    },
    {
      "cell_type": "code",
      "source": [
        "acc=history.history['accuracy']\n",
        "val_acc=history.history['val_accuracy']\n",
        "plt.plot(epochs, acc, 'bo', label='Training accuracy')\n",
        "plt.plot(epochs, val_acc, 'yo', label='Validation accuracy')\n",
        "plt.xlabel('Epochs')\n",
        "plt.ylabel('Accuracy')\n",
        "plt.legend()\n",
        "plt.show()"
      ],
      "metadata": {
        "colab": {
          "base_uri": "https://localhost:8080/",
          "height": 279
        },
        "id": "Vh_jvm23zW8D",
        "outputId": "2888f21e-ff74-4112-a395-45dd42edbbcf"
      },
      "execution_count": 130,
      "outputs": [
        {
          "output_type": "display_data",
          "data": {
            "text/plain": [
              "<Figure size 432x288 with 1 Axes>"
            ],
            "image/png": "[encoded data removed]"
          },
          "metadata": {
            "needs_background": "light"
          }
        }
      ]
    },
    {
      "cell_type": "markdown",
      "source": [
        "### Retrain the model with 9 epochs; any more and it overfits"
      ],
      "metadata": {
        "id": "nQxc-rOv1QgC"
      }
    },
    {
      "cell_type": "code",
      "source": [
        "model.fit(x_partial_train,\n",
        "          y_partial_train,\n",
        "          epochs=9,\n",
        "          batch_size=512,\n",
        "          validation_data=(x_val, y_val))"
      ],
      "metadata": {
        "colab": {
          "base_uri": "https://localhost:8080/"
        },
        "id": "XeZC7fva1Pam",
        "outputId": "67ad93d1-97b6-4537-992a-560a44ab45eb"
      },
      "execution_count": 131,
      "outputs": [
        {
          "output_type": "stream",
          "name": "stdout",
          "text": [
            "Epoch 1/9\n",
            "16/16 [==============================] - 1s 57ms/step - loss: 0.1117 - accuracy: 0.9574 - val_loss: 1.0819 - val_accuracy: 0.8030\n",
            "Epoch 2/9\n",
            "16/16 [==============================] - 1s 50ms/step - loss: 0.1116 - accuracy: 0.9565 - val_loss: 1.1261 - val_accuracy: 0.7950\n",
            "Epoch 3/9\n",
            "16/16 [==============================] - 1s 52ms/step - loss: 0.1045 - accuracy: 0.9564 - val_loss: 1.1078 - val_accuracy: 0.8040\n",
            "Epoch 4/9\n",
            "16/16 [==============================] - 1s 50ms/step - loss: 0.1049 - accuracy: 0.9575 - val_loss: 1.2009 - val_accuracy: 0.7890\n",
            "Epoch 5/9\n",
            "16/16 [==============================] - 1s 51ms/step - loss: 0.1022 - accuracy: 0.9575 - val_loss: 1.1718 - val_accuracy: 0.8060\n",
            "Epoch 6/9\n",
            "16/16 [==============================] - 1s 51ms/step - loss: 0.1052 - accuracy: 0.9583 - val_loss: 1.1413 - val_accuracy: 0.8070\n",
            "Epoch 7/9\n",
            "16/16 [==============================] - 1s 51ms/step - loss: 0.0982 - accuracy: 0.9570 - val_loss: 1.2179 - val_accuracy: 0.7960\n",
            "Epoch 8/9\n",
            "16/16 [==============================] - 1s 50ms/step - loss: 0.1010 - accuracy: 0.9575 - val_loss: 1.1792 - val_accuracy: 0.8040\n",
            "Epoch 9/9\n",
            "16/16 [==============================] - 1s 49ms/step - loss: 0.0957 - accuracy: 0.9599 - val_loss: 1.2179 - val_accuracy: 0.7980\n"
          ]
        },
        {
          "output_type": "execute_result",
          "data": {
            "text/plain": [
              "<keras.callbacks.History at 0x7f6e4b743410>"
            ]
          },
          "metadata": {},
          "execution_count": 131
        }
      ]
    },
    {
      "cell_type": "markdown",
      "source": [
        "### Evaluate on the test set"
      ],
      "metadata": {
        "id": "i9kJNHXX4TTB"
      }
    },
    {
      "cell_type": "code",
      "source": [
        "results=model.evaluate(x_test, ohe_test_labels)\n",
        "results"
      ],
      "metadata": {
        "colab": {
          "base_uri": "https://localhost:8080/"
        },
        "id": "m4n2OREE4S9-",
        "outputId": "00c288e0-ced0-4cef-dc67-b54fc171a5e5"
      },
      "execution_count": 132,
      "outputs": [
        {
          "output_type": "stream",
          "name": "stdout",
          "text": [
            "71/71 [==============================] - 0s 4ms/step - loss: 1.3714 - accuracy: 0.7809\n"
          ]
        },
        {
          "output_type": "execute_result",
          "data": {
            "text/plain": [
              "[1.3713924884796143, 0.7809438705444336]"
            ]
          },
          "metadata": {},
          "execution_count": 132
        }
      ]
    },
    {
      "cell_type": "markdown",
      "source": [
        "### Generate predicitons"
      ],
      "metadata": {
        "id": "urPZ1vaD50fi"
      }
    },
    {
      "cell_type": "code",
      "source": [
        "predictions=model.predict(x_test)\n",
        "predictions\n",
        "predictions[0].shape"
      ],
      "metadata": {
        "colab": {
          "base_uri": "https://localhost:8080/"
        },
        "id": "GEsVsgwT54le",
        "outputId": "b7511fde-8570-4596-8652-b0325b0aa170"
      },
      "execution_count": 133,
      "outputs": [
        {
          "output_type": "execute_result",
          "data": {
            "text/plain": [
              "(46,)"
            ]
          },
          "metadata": {},
          "execution_count": 133
        }
      ]
    },
    {
      "cell_type": "code",
      "source": [
        "np.argmax(predictions[0])"
      ],
      "metadata": {
        "colab": {
          "base_uri": "https://localhost:8080/"
        },
        "id": "UEfC7uBV60BF",
        "outputId": "3331179c-07d0-44e4-8413-0974de27a8fe"
      },
      "execution_count": 135,
      "outputs": [
        {
          "output_type": "execute_result",
          "data": {
            "text/plain": [
              "3"
            ]
          },
          "metadata": {},
          "execution_count": 135
        }
      ]
    }
  ]
}