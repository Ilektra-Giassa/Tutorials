{
  "nbformat": 4,
  "nbformat_minor": 0,
  "metadata": {
    "colab": {
      "provenance": [],
      "authorship_tag": "ABX9TyOgeXpCHUNZFELrNkVomX6+",
      "include_colab_link": true
    },
    "kernelspec": {
      "name": "python3",
      "display_name": "Python 3"
    },
    "language_info": {
      "name": "python"
    }
  },
  "cells": [
    {
      "cell_type": "markdown",
      "metadata": {
        "id": "view-in-github",
        "colab_type": "text"
      },
      "source": [
        "<a href=\"https://colab.research.google.com/github/Ilektra-Giassa/Tutorials/blob/main/reuters.ipynb\" target=\"_parent\"><img src=\"https://colab.research.google.com/assets/colab-badge.svg\" alt=\"Open In Colab\"/></a>"
      ]
    },
    {
      "cell_type": "markdown",
      "source": [
        "# Exclusive news on 46 topics!"
      ],
      "metadata": {
        "id": "ORLvdYleN1Qu"
      }
    },
    {
      "cell_type": "code",
      "execution_count": 64,
      "metadata": {
        "id": "h8hj-AL6NLYw"
      },
      "outputs": [],
      "source": [
        "from keras.datasets import reuters\n",
        "(train_data, train_labels), (test_data, test_labels) = reuters.load_data(num_words=10000)\n",
        "#loading the 10K most frequent words\n",
        "#8982 for train, 2246 for test dataset"
      ]
    },
    {
      "cell_type": "code",
      "source": [
        "max(train_labels)-min(train_labels)\n",
        "#46 newswire topics"
      ],
      "metadata": {
        "colab": {
          "base_uri": "https://localhost:8080/"
        },
        "id": "4V1PyYUJUvaX",
        "outputId": "d9a840dc-6aac-4e75-a530-c5a4750db1d3"
      },
      "execution_count": 65,
      "outputs": [
        {
          "output_type": "execute_result",
          "data": {
            "text/plain": [
              "45"
            ]
          },
          "metadata": {},
          "execution_count": 65
        }
      ]
    },
    {
      "cell_type": "markdown",
      "source": [
        "### Decode the newswires"
      ],
      "metadata": {
        "id": "nperoqLFSpyg"
      }
    },
    {
      "cell_type": "code",
      "source": [
        "word_index=reuters.get_word_index()\n",
        "reverse_word_index=dict([(value, key) for (key, value) in word_index.items()])\n",
        "decoded_newswire=' '.join([reverse_word_index.get(i-3, '?') for i in train_data[0]])\n",
        "#indices 0, 1, 2 for padding, start of sequence, and unknown"
      ],
      "metadata": {
        "id": "0cJ1fLmiSoe4"
      },
      "execution_count": 66,
      "outputs": []
    },
    {
      "cell_type": "markdown",
      "source": [
        "### Vectorize the data"
      ],
      "metadata": {
        "id": "G0-oM9tjbZ1o"
      }
    },
    {
      "cell_type": "code",
      "source": [
        "import numpy as np\n",
        "def vectorize(sequences, dimension=10000):\n",
        "  results=np.zeros((len(sequences), dimension))\n",
        "  for i, sequence in enumerate(sequences):\n",
        "    results[i, sequence]=1.\n",
        "  return results\n",
        "\n",
        "x_train=vectorize(train_data)\n",
        "x_test=vectorize(test_data)"
      ],
      "metadata": {
        "id": "HPegyqNfbdLm"
      },
      "execution_count": 67,
      "outputs": []
    },
    {
      "cell_type": "markdown",
      "source": [
        "### OHE of labels"
      ],
      "metadata": {
        "id": "E5Kqa9sfdGYK"
      }
    },
    {
      "cell_type": "code",
      "source": [
        "def ohe(labels, dimension=64):\n",
        "  results=np.zeros((len(labels), dimension))\n",
        "  for i, labels in enumerate(labels):\n",
        "    results[i, labels]=1.\n",
        "  return results\n",
        "\n",
        "ohe_train_labels=ohe(train_labels)\n",
        "ohe_test_labels=ohe(test_labels)"
      ],
      "metadata": {
        "id": "rKXAr5E0dKnc"
      },
      "execution_count": 68,
      "outputs": []
    },
    {
      "cell_type": "markdown",
      "source": [
        "### Build the net"
      ],
      "metadata": {
        "id": "Eu2XHESheE08"
      }
    },
    {
      "cell_type": "code",
      "source": [
        "from keras import models, layers\n",
        "model=models.Sequential()\n",
        "model.add(layers.Dense(64, activation='relu', input_shape=(10000,)))\n",
        "model.add(layers.Dense(64, activation='relu'))\n",
        "model.add(layers.Dense(64, activation='softmax'))"
      ],
      "metadata": {
        "id": "hLjnnYLieF7E"
      },
      "execution_count": 99,
      "outputs": []
    },
    {
      "cell_type": "markdown",
      "source": [
        "### Compile model"
      ],
      "metadata": {
        "id": "PzwUogmPwWmP"
      }
    },
    {
      "cell_type": "code",
      "source": [
        "model.compile(optimizer='rmsprop', loss='categorical_crossentropy', metrics=['accuracy'])"
      ],
      "metadata": {
        "id": "FPGY7AFWeEfF"
      },
      "execution_count": 100,
      "outputs": []
    },
    {
      "cell_type": "markdown",
      "source": [
        "### Validation dataset"
      ],
      "metadata": {
        "id": "Z2WgudUgsetx"
      }
    },
    {
      "cell_type": "code",
      "source": [
        "x_val=x_train[:1000]\n",
        "y_val=ohe_train_labels[:1000]\n",
        "x_partial_train=x_train[1000:]\n",
        "y_partial_train=ohe_train_labels[1000:]"
      ],
      "metadata": {
        "id": "qyIrzO0TseUk"
      },
      "execution_count": 101,
      "outputs": []
    },
    {
      "cell_type": "code",
      "source": [
        "history=model.fit(x_partial_train,\n",
        "                  y_partial_train, \n",
        "                  epochs=20, \n",
        "                  batch_size=512, \n",
        "                  validation_data=(x_val, y_val))"
      ],
      "metadata": {
        "colab": {
          "base_uri": "https://localhost:8080/"
        },
        "id": "moZwSHXptnus",
        "outputId": "2cbb8d42-b734-446a-8def-a36e3568e437"
      },
      "execution_count": 102,
      "outputs": [
        {
          "output_type": "stream",
          "name": "stdout",
          "text": [
            "Epoch 1/20\n",
            "16/16 [==============================] - 2s 74ms/step - loss: 2.9169 - accuracy: 0.5147 - val_loss: 1.9032 - val_accuracy: 0.6280\n",
            "Epoch 2/20\n",
            "16/16 [==============================] - 1s 51ms/step - loss: 1.5263 - accuracy: 0.6933 - val_loss: 1.3755 - val_accuracy: 0.7020\n",
            "Epoch 3/20\n",
            "16/16 [==============================] - 1s 51ms/step - loss: 1.1175 - accuracy: 0.7621 - val_loss: 1.1893 - val_accuracy: 0.7490\n",
            "Epoch 4/20\n",
            "16/16 [==============================] - 1s 52ms/step - loss: 0.8947 - accuracy: 0.8108 - val_loss: 1.0742 - val_accuracy: 0.7760\n",
            "Epoch 5/20\n",
            "16/16 [==============================] - 1s 50ms/step - loss: 0.7218 - accuracy: 0.8527 - val_loss: 1.0134 - val_accuracy: 0.7980\n",
            "Epoch 6/20\n",
            "16/16 [==============================] - 1s 49ms/step - loss: 0.5865 - accuracy: 0.8809 - val_loss: 0.9644 - val_accuracy: 0.7990\n",
            "Epoch 7/20\n",
            "16/16 [==============================] - 1s 50ms/step - loss: 0.4759 - accuracy: 0.9024 - val_loss: 0.9300 - val_accuracy: 0.8090\n",
            "Epoch 8/20\n",
            "16/16 [==============================] - 1s 51ms/step - loss: 0.3964 - accuracy: 0.9189 - val_loss: 0.9851 - val_accuracy: 0.7890\n",
            "Epoch 9/20\n",
            "16/16 [==============================] - 1s 50ms/step - loss: 0.3273 - accuracy: 0.9292 - val_loss: 0.9063 - val_accuracy: 0.8040\n",
            "Epoch 10/20\n",
            "16/16 [==============================] - 1s 49ms/step - loss: 0.2729 - accuracy: 0.9404 - val_loss: 0.9395 - val_accuracy: 0.8120\n",
            "Epoch 11/20\n",
            "16/16 [==============================] - 1s 52ms/step - loss: 0.2353 - accuracy: 0.9458 - val_loss: 0.9122 - val_accuracy: 0.8160\n",
            "Epoch 12/20\n",
            "16/16 [==============================] - 1s 53ms/step - loss: 0.2101 - accuracy: 0.9499 - val_loss: 0.9455 - val_accuracy: 0.8080\n",
            "Epoch 13/20\n",
            "16/16 [==============================] - 1s 52ms/step - loss: 0.1819 - accuracy: 0.9519 - val_loss: 0.9573 - val_accuracy: 0.8150\n",
            "Epoch 14/20\n",
            "16/16 [==============================] - 1s 52ms/step - loss: 0.1639 - accuracy: 0.9524 - val_loss: 0.9476 - val_accuracy: 0.8180\n",
            "Epoch 15/20\n",
            "16/16 [==============================] - 1s 50ms/step - loss: 0.1519 - accuracy: 0.9562 - val_loss: 0.9686 - val_accuracy: 0.8140\n",
            "Epoch 16/20\n",
            "16/16 [==============================] - 1s 49ms/step - loss: 0.1385 - accuracy: 0.9569 - val_loss: 0.9680 - val_accuracy: 0.8150\n",
            "Epoch 17/20\n",
            "16/16 [==============================] - 1s 53ms/step - loss: 0.1354 - accuracy: 0.9539 - val_loss: 1.0219 - val_accuracy: 0.8110\n",
            "Epoch 18/20\n",
            "16/16 [==============================] - 1s 51ms/step - loss: 0.1266 - accuracy: 0.9568 - val_loss: 1.0293 - val_accuracy: 0.8070\n",
            "Epoch 19/20\n",
            "16/16 [==============================] - 1s 51ms/step - loss: 0.1215 - accuracy: 0.9544 - val_loss: 1.0535 - val_accuracy: 0.8100\n",
            "Epoch 20/20\n",
            "16/16 [==============================] - 1s 52ms/step - loss: 0.1147 - accuracy: 0.9578 - val_loss: 1.0679 - val_accuracy: 0.8000\n"
          ]
        }
      ]
    },
    {
      "cell_type": "code",
      "source": [
        "history.history.keys()"
      ],
      "metadata": {
        "colab": {
          "base_uri": "https://localhost:8080/"
        },
        "id": "pxrYyHO80JuE",
        "outputId": "be48fb4e-73c9-4f91-bfc8-c2ac4d84cbc6"
      },
      "execution_count": 112,
      "outputs": [
        {
          "output_type": "execute_result",
          "data": {
            "text/plain": [
              "dict_keys(['loss', 'accuracy', 'val_loss', 'val_accuracy'])"
            ]
          },
          "metadata": {},
          "execution_count": 112
        }
      ]
    },
    {
      "cell_type": "markdown",
      "source": [
        "### Plot loss and accuracy"
      ],
      "metadata": {
        "id": "W6ejlteqtY4l"
      }
    },
    {
      "cell_type": "code",
      "source": [
        "import matplotlib.pyplot as plt\n",
        "loss=history.history['loss']\n",
        "val_loss=history.history['val_loss']\n",
        "epochs=range(1, 21)\n",
        "\n",
        "plt.plot(epochs, loss, 'bo', label='Training loss')\n",
        "plt.plot(epochs, val_loss, 'ro', label='Validation loss')\n",
        "plt.xlabel('Epochs')\n",
        "plt.ylabel('Loss')\n",
        "plt.legend()\n",
        "plt.show()"
      ],
      "metadata": {
        "colab": {
          "base_uri": "https://localhost:8080/",
          "height": 279
        },
        "id": "tChRdUF7ye_5",
        "outputId": "8dd14294-ef18-49b5-dd22-5e5b29cfccec"
      },
      "execution_count": 105,
      "outputs": [
        {
          "output_type": "display_data",
          "data": {
            "text/plain": [
              "<Figure size 432x288 with 1 Axes>"
            ],
            "image/png": "[encoded data removed]"
          },
          "metadata": {
            "needs_background": "light"
          }
        }
      ]
    },
    {
      "cell_type": "code",
      "source": [
        "acc=history.history['accuracy']\n",
        "val_acc=history.history['val_accuracy']\n",
        "plt.plot(epochs, acc, 'bo', label='Training accuracy')\n",
        "plt.plot(epochs, val_acc, 'yo', label='Validation accuracy')\n",
        "plt.xlabel('Epochs')\n",
        "plt.ylabel('Accuracy')\n",
        "plt.legend()\n",
        "plt.show()"
      ],
      "metadata": {
        "colab": {
          "base_uri": "https://localhost:8080/",
          "height": 279
        },
        "id": "Vh_jvm23zW8D",
        "outputId": "b5467d77-189a-4b41-c347-054a27d49095"
      },
      "execution_count": 114,
      "outputs": [
        {
          "output_type": "display_data",
          "data": {
            "text/plain": [
              "<Figure size 432x288 with 1 Axes>"
            ],
            "image/png": "[encoded data removed]"
          },
          "metadata": {
            "needs_background": "light"
          }
        }
      ]
    },
    {
      "cell_type": "markdown",
      "source": [
        "### Retrain the model with 9 epochs; any more and it overfits"
      ],
      "metadata": {
        "id": "nQxc-rOv1QgC"
      }
    },
    {
      "cell_type": "code",
      "source": [
        "model.fit(x_partial_train,\n",
        "          y_partial_train,\n",
        "          epochs=9,\n",
        "          batch_size=512,\n",
        "          validation_data=(x_val, y_val))"
      ],
      "metadata": {
        "colab": {
          "base_uri": "https://localhost:8080/"
        },
        "id": "XeZC7fva1Pam",
        "outputId": "d946152a-fc17-4a15-b8bd-01884a432216"
      },
      "execution_count": 115,
      "outputs": [
        {
          "output_type": "stream",
          "name": "stdout",
          "text": [
            "Epoch 1/9\n",
            "16/16 [==============================] - 2s 121ms/step - loss: 0.1145 - accuracy: 0.9559 - val_loss: 1.0477 - val_accuracy: 0.8090\n",
            "Epoch 2/9\n",
            "16/16 [==============================] - 1s 63ms/step - loss: 0.1078 - accuracy: 0.9573 - val_loss: 1.1514 - val_accuracy: 0.8050\n",
            "Epoch 3/9\n",
            "16/16 [==============================] - 1s 66ms/step - loss: 0.1053 - accuracy: 0.9595 - val_loss: 1.1400 - val_accuracy: 0.7940\n",
            "Epoch 4/9\n",
            "16/16 [==============================] - 1s 60ms/step - loss: 0.1039 - accuracy: 0.9589 - val_loss: 1.0898 - val_accuracy: 0.8060\n",
            "Epoch 5/9\n",
            "16/16 [==============================] - 1s 71ms/step - loss: 0.1033 - accuracy: 0.9574 - val_loss: 1.0958 - val_accuracy: 0.8120\n",
            "Epoch 6/9\n",
            "16/16 [==============================] - 2s 95ms/step - loss: 0.1030 - accuracy: 0.9572 - val_loss: 1.1901 - val_accuracy: 0.7910\n",
            "Epoch 7/9\n",
            "16/16 [==============================] - 1s 64ms/step - loss: 0.1013 - accuracy: 0.9599 - val_loss: 1.1840 - val_accuracy: 0.8000\n",
            "Epoch 8/9\n",
            "16/16 [==============================] - 1s 51ms/step - loss: 0.0987 - accuracy: 0.9557 - val_loss: 1.1526 - val_accuracy: 0.7970\n",
            "Epoch 9/9\n",
            "16/16 [==============================] - 1s 49ms/step - loss: 0.0972 - accuracy: 0.9560 - val_loss: 1.1464 - val_accuracy: 0.8020\n"
          ]
        },
        {
          "output_type": "execute_result",
          "data": {
            "text/plain": [
              "<keras.callbacks.History at 0x7f6e4bd3b950>"
            ]
          },
          "metadata": {},
          "execution_count": 115
        }
      ]
    },
    {
      "cell_type": "markdown",
      "source": [
        "### Evaluate on the test set"
      ],
      "metadata": {
        "id": "i9kJNHXX4TTB"
      }
    },
    {
      "cell_type": "code",
      "source": [
        "results=model.evaluate(x_test, ohe_test_labels)\n",
        "results"
      ],
      "metadata": {
        "colab": {
          "base_uri": "https://localhost:8080/"
        },
        "id": "m4n2OREE4S9-",
        "outputId": "2b6a6ae1-4514-4d3c-8901-fee80e73f41d"
      },
      "execution_count": 117,
      "outputs": [
        {
          "output_type": "stream",
          "name": "stdout",
          "text": [
            "71/71 [==============================] - 0s 4ms/step - loss: 1.3419 - accuracy: 0.7872\n"
          ]
        },
        {
          "output_type": "execute_result",
          "data": {
            "text/plain": [
              "[1.3418771028518677, 0.7871772050857544]"
            ]
          },
          "metadata": {},
          "execution_count": 117
        }
      ]
    }
  ]
}