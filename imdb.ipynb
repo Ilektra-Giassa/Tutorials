{
  "nbformat": 4,
  "nbformat_minor": 0,
  "metadata": {
    "colab": {
      "provenance": [],
      "authorship_tag": "ABX9TyOOooM4aoaCzIvlotkcUx2z",
      "include_colab_link": true
    },
    "kernelspec": {
      "name": "python3",
      "display_name": "Python 3"
    },
    "language_info": {
      "name": "python"
    }
  },
  "cells": [
    {
      "cell_type": "markdown",
      "metadata": {
        "id": "view-in-github",
        "colab_type": "text"
      },
      "source": [
        "<a href=\"https://colab.research.google.com/github/Ilektra-Giassa/Tutorials/blob/main/imdb.ipynb\" target=\"_parent\"><img src=\"https://colab.research.google.com/assets/colab-badge.svg\" alt=\"Open In Colab\"/></a>"
      ]
    },
    {
      "cell_type": "markdown",
      "source": [
        "### **What was that review again?**\n",
        "Playing around with IMDB ratings"
      ],
      "metadata": {
        "id": "o9yDF9HxQzxb"
      }
    },
    {
      "cell_type": "code",
      "execution_count": 1,
      "metadata": {
        "colab": {
          "base_uri": "https://localhost:8080/"
        },
        "id": "M9nC8w88OHfj",
        "outputId": "a367535d-e429-470d-8976-745ac7dadde0"
      },
      "outputs": [
        {
          "output_type": "stream",
          "name": "stdout",
          "text": [
            "Downloading data from https://storage.googleapis.com/tensorflow/tf-keras-datasets/imdb.npz\n",
            "17465344/17464789 [==============================] - 0s 0us/step\n",
            "17473536/17464789 [==============================] - 0s 0us/step\n"
          ]
        }
      ],
      "source": [
        "from keras.datasets import imdb\n",
        "(train_data, train_labels), (test_data, test_labels) = imdb.load_data(num_words = 10000)\n",
        "#restricted to the 10000 most frequent words\n",
        "#25K reviews for training, 25K for testing"
      ]
    },
    {
      "cell_type": "markdown",
      "source": [
        "Decode reviews"
      ],
      "metadata": {
        "id": "GnatKSwIPYhl"
      }
    },
    {
      "cell_type": "code",
      "source": [
        "word_index = imdb.get_word_index()\n",
        "#dictionary to map words to integer indices\n",
        "reverse_word_index = dict (\n",
        "    #reversion: maps integer indices to words\n",
        "    [(value, key) for (key, value) in word_index.items()])\n",
        "decoded_review = ' '.join(\n",
        "    #decoding: offset by 3 - 0, 1, and 2 are reserved for padding, start of sequence, and unknown\n",
        "    [reverse_word_index.get(i-3, '?') for i in train_data[0]])"
      ],
      "metadata": {
        "id": "WOo4OU-pPEag"
      },
      "execution_count": 3,
      "outputs": []
    },
    {
      "cell_type": "markdown",
      "source": [
        "### Encode sequences to binary matrix (transform into tensors)\n",
        "We can either use embedding layer, or OHE. Let's try the latter."
      ],
      "metadata": {
        "id": "J1iJ4_zxcMh4"
      }
    },
    {
      "cell_type": "code",
      "source": [
        "import numpy as np\n",
        "def vectorize_sequences(sequences, dimension=10000):\n",
        "  results=np.zeros((len(sequences), dimension))\n",
        "  for i, sequence in enumerate(sequences):\n",
        "    results[i, sequence] = 1.\n",
        "  return results\n",
        "\n",
        "x_train=vectorize_sequences(train_data)\n",
        "x_test=vectorize_sequences(test_data)"
      ],
      "metadata": {
        "id": "q5KgW-zMQwB9"
      },
      "execution_count": 4,
      "outputs": []
    },
    {
      "cell_type": "code",
      "source": [
        "#vectorize labels too\n",
        "y_train=np.asarray(train_labels).astype('float32')\n",
        "y_test=np.asarray(test_labels).astype('float32')"
      ],
      "metadata": {
        "id": "qo2VjirYEKqM"
      },
      "execution_count": 5,
      "outputs": []
    },
    {
      "cell_type": "markdown",
      "source": [
        "### Build the net with 3 dense layers"
      ],
      "metadata": {
        "id": "_fNN9wVENQ_f"
      }
    },
    {
      "cell_type": "code",
      "source": [
        "from keras import models, layers\n",
        "model = models.Sequential()\n",
        "model.add(layers.Dense(16, activation='relu', input_shape=(10000,)))\n",
        "model.add(layers.Dense(16, activation='relu'))\n",
        "model.add(layers.Dense(1, activation='sigmoid'))"
      ],
      "metadata": {
        "id": "Zi6B5uMBNSlO"
      },
      "execution_count": 6,
      "outputs": []
    },
    {
      "cell_type": "markdown",
      "source": [
        "### Compile the model and configure the optimizer, the losses and metrics"
      ],
      "metadata": {
        "id": "BPGwIyG9QZ5d"
      }
    },
    {
      "cell_type": "code",
      "source": [
        "model.compile(optimizer='rmsprop', loss='binary_crossentropy', metrics=['accuracy'])\n",
        "from tensorflow.keras import optimizers, losses, metrics\n",
        "model.compile(optimizer=optimizers.RMSprop(learning_rate=0.001), loss=losses.binary_crossentropy, metrics=[metrics.binary_accuracy])"
      ],
      "metadata": {
        "id": "DIK0h_IyNPZf"
      },
      "execution_count": 7,
      "outputs": []
    },
    {
      "cell_type": "markdown",
      "source": [
        "### Validation dataset"
      ],
      "metadata": {
        "id": "zsYSrkYw_Y4l"
      }
    },
    {
      "cell_type": "code",
      "source": [
        "#10K reviews for validation, 15K for training\n",
        "x_val=x_train[:10000]\n",
        "y_val=y_train[:10000]\n",
        "partial_x_train=x_train[10000:]\n",
        "partial_y_train=y_train[10000:]"
      ],
      "metadata": {
        "id": "4V8euqAX_eHg"
      },
      "execution_count": 8,
      "outputs": []
    },
    {
      "cell_type": "markdown",
      "source": [
        "### Training"
      ],
      "metadata": {
        "id": "IlrdVmxlBW_c"
      }
    },
    {
      "cell_type": "code",
      "source": [
        "history=model.fit(partial_x_train, partial_y_train, epochs=20, batch_size=512, validation_data=(x_val, y_val))\n",
        "#20 epochs and 512 batch size, thus 15K/512 ~ 30 updates per epoch"
      ],
      "metadata": {
        "colab": {
          "base_uri": "https://localhost:8080/"
        },
        "id": "wBjF8J8NBV58",
        "outputId": "3a2caa96-be55-4fb0-827e-4312187bfed7"
      },
      "execution_count": 9,
      "outputs": [
        {
          "output_type": "stream",
          "name": "stdout",
          "text": [
            "Epoch 1/20\n",
            "30/30 [==============================] - 3s 54ms/step - loss: 0.5026 - binary_accuracy: 0.8025 - val_loss: 0.3817 - val_binary_accuracy: 0.8720\n",
            "Epoch 2/20\n",
            "30/30 [==============================] - 1s 39ms/step - loss: 0.3010 - binary_accuracy: 0.9035 - val_loss: 0.3059 - val_binary_accuracy: 0.8873\n",
            "Epoch 3/20\n",
            "30/30 [==============================] - 1s 38ms/step - loss: 0.2197 - binary_accuracy: 0.9288 - val_loss: 0.2780 - val_binary_accuracy: 0.8920\n",
            "Epoch 4/20\n",
            "30/30 [==============================] - 1s 40ms/step - loss: 0.1749 - binary_accuracy: 0.9447 - val_loss: 0.2855 - val_binary_accuracy: 0.8869\n",
            "Epoch 5/20\n",
            "30/30 [==============================] - 1s 39ms/step - loss: 0.1445 - binary_accuracy: 0.9537 - val_loss: 0.3107 - val_binary_accuracy: 0.8753\n",
            "Epoch 6/20\n",
            "30/30 [==============================] - 1s 39ms/step - loss: 0.1198 - binary_accuracy: 0.9625 - val_loss: 0.2916 - val_binary_accuracy: 0.8879\n",
            "Epoch 7/20\n",
            "30/30 [==============================] - 1s 40ms/step - loss: 0.0999 - binary_accuracy: 0.9695 - val_loss: 0.3224 - val_binary_accuracy: 0.8815\n",
            "Epoch 8/20\n",
            "30/30 [==============================] - 1s 40ms/step - loss: 0.0825 - binary_accuracy: 0.9766 - val_loss: 0.3279 - val_binary_accuracy: 0.8817\n",
            "Epoch 9/20\n",
            "30/30 [==============================] - 1s 42ms/step - loss: 0.0702 - binary_accuracy: 0.9795 - val_loss: 0.3523 - val_binary_accuracy: 0.8794\n",
            "Epoch 10/20\n",
            "30/30 [==============================] - 1s 40ms/step - loss: 0.0562 - binary_accuracy: 0.9857 - val_loss: 0.3881 - val_binary_accuracy: 0.8765\n",
            "Epoch 11/20\n",
            "30/30 [==============================] - 1s 39ms/step - loss: 0.0452 - binary_accuracy: 0.9889 - val_loss: 0.4135 - val_binary_accuracy: 0.8727\n",
            "Epoch 12/20\n",
            "30/30 [==============================] - 1s 39ms/step - loss: 0.0376 - binary_accuracy: 0.9912 - val_loss: 0.4492 - val_binary_accuracy: 0.8743\n",
            "Epoch 13/20\n",
            "30/30 [==============================] - 1s 39ms/step - loss: 0.0315 - binary_accuracy: 0.9935 - val_loss: 0.4692 - val_binary_accuracy: 0.8728\n",
            "Epoch 14/20\n",
            "30/30 [==============================] - 1s 41ms/step - loss: 0.0272 - binary_accuracy: 0.9939 - val_loss: 0.5039 - val_binary_accuracy: 0.8688\n",
            "Epoch 15/20\n",
            "30/30 [==============================] - 1s 38ms/step - loss: 0.0199 - binary_accuracy: 0.9965 - val_loss: 0.5322 - val_binary_accuracy: 0.8694\n",
            "Epoch 16/20\n",
            "30/30 [==============================] - 1s 40ms/step - loss: 0.0172 - binary_accuracy: 0.9975 - val_loss: 0.5674 - val_binary_accuracy: 0.8677\n",
            "Epoch 17/20\n",
            "30/30 [==============================] - 1s 38ms/step - loss: 0.0149 - binary_accuracy: 0.9975 - val_loss: 0.5987 - val_binary_accuracy: 0.8692\n",
            "Epoch 18/20\n",
            "30/30 [==============================] - 1s 39ms/step - loss: 0.0083 - binary_accuracy: 0.9996 - val_loss: 0.6314 - val_binary_accuracy: 0.8641\n",
            "Epoch 19/20\n",
            "30/30 [==============================] - 1s 39ms/step - loss: 0.0114 - binary_accuracy: 0.9983 - val_loss: 0.6604 - val_binary_accuracy: 0.8648\n",
            "Epoch 20/20\n",
            "30/30 [==============================] - 1s 38ms/step - loss: 0.0051 - binary_accuracy: 0.9998 - val_loss: 0.7072 - val_binary_accuracy: 0.8648\n"
          ]
        }
      ]
    },
    {
      "cell_type": "markdown",
      "source": [
        "### Plotting"
      ],
      "metadata": {
        "id": "6kNeHOlWDFTl"
      }
    },
    {
      "cell_type": "code",
      "source": [
        "import matplotlib.pyplot as plt\n",
        "history_dict=history.history\n",
        "history_dict.keys()"
      ],
      "metadata": {
        "colab": {
          "base_uri": "https://localhost:8080/"
        },
        "id": "FXqQo82YH7qc",
        "outputId": "5f369226-0dc2-43ae-f3cb-ea13f6302e95"
      },
      "execution_count": 10,
      "outputs": [
        {
          "output_type": "execute_result",
          "data": {
            "text/plain": [
              "dict_keys(['loss', 'binary_accuracy', 'val_loss', 'val_binary_accuracy'])"
            ]
          },
          "metadata": {},
          "execution_count": 10
        }
      ]
    },
    {
      "cell_type": "code",
      "source": [
        "import matplotlib.pyplot as plt\n",
        "history_dict=history.history\n",
        "history_dict.keys()\n",
        "loss_values=history_dict['loss']\n",
        "val_loss_values=history_dict['val_loss']\n",
        "epochs=range(1, 21)\n",
        "plt.plot(epochs, loss_values, 'bo', label='Training loss')\n",
        "plt.plot(epochs, val_loss_values, 'ro', label='Validation loss')\n",
        "plt.xlabel('Epochs')\n",
        "plt.ylabel('Loss')\n",
        "plt.legend()\n",
        "plt.show()"
      ],
      "metadata": {
        "colab": {
          "base_uri": "https://localhost:8080/",
          "height": 279
        },
        "id": "VmHGD3vhDkAo",
        "outputId": "2678c85c-abab-4a60-c5d5-b2aaec03f98a"
      },
      "execution_count": 11,
      "outputs": [
        {
          "output_type": "display_data",
          "data": {
            "text/plain": [
              "<Figure size 432x288 with 1 Axes>"
            ],
            "image/png": "[encoded data removed]"
          },
          "metadata": {
            "needs_background": "light"
          }
        }
      ]
    },
    {
      "cell_type": "code",
      "source": [
        "acc_values=history_dict['binary_accuracy']\n",
        "val_acc_values=history_dict['val_binary_accuracy']\n",
        "epochs=range(1, 21)\n",
        "plt.plot(epochs, acc_values, 'go', label=\"Training accuracy\")\n",
        "plt.plot(epochs, val_acc_values, 'yo', label=\"Validation accuracy\")\n",
        "plt.xlabel('Epochs')\n",
        "plt.ylabel('Accuracy')\n",
        "plt.legend()\n",
        "plt.show()\n",
        "#Validation accuracy declines after 5th epoch - overfitting"
      ],
      "metadata": {
        "colab": {
          "base_uri": "https://localhost:8080/",
          "height": 279
        },
        "id": "RhE2W2t0Dz0J",
        "outputId": "ab03d579-996e-4371-b6c7-2c1c094ca0a5"
      },
      "execution_count": 12,
      "outputs": [
        {
          "output_type": "display_data",
          "data": {
            "text/plain": [
              "<Figure size 432x288 with 1 Axes>"
            ],
            "image/png": "[encoded data removed]"
          },
          "metadata": {
            "needs_background": "light"
          }
        }
      ]
    },
    {
      "cell_type": "markdown",
      "source": [
        "### Retrain with 4 epochs, more than that and we overfit!"
      ],
      "metadata": {
        "id": "z0no1VFCKz6X"
      }
    },
    {
      "cell_type": "code",
      "source": [
        "models=models.Sequential()\n",
        "model.add(layers.Dense(16, activation='relu', input_shape=(10000,)))\n",
        "model.add(layers.Dense(512, activation='relu'))\n",
        "model.add(layers.Dense(1, activation='sigmoid'))\n",
        "model.compile(optimizer=optimizers.RMSprop(learning_rate=0.001), loss=losses.binary_crossentropy, metrics=[metrics.binary_accuracy])"
      ],
      "metadata": {
        "id": "3V1Cvli8LC7a"
      },
      "execution_count": 13,
      "outputs": []
    },
    {
      "cell_type": "code",
      "source": [
        "model.fit(x_train, y_train, epochs=4, batch_size=512)\n",
        "results=model.evaluate(x_test, y_test)"
      ],
      "metadata": {
        "colab": {
          "base_uri": "https://localhost:8080/"
        },
        "id": "SmDH5bczL_Os",
        "outputId": "4c63aad1-1a29-425a-d51d-066893ea09a2"
      },
      "execution_count": 14,
      "outputs": [
        {
          "output_type": "stream",
          "name": "stdout",
          "text": [
            "Epoch 1/4\n",
            "49/49 [==============================] - 3s 34ms/step - loss: 0.3976 - binary_accuracy: 0.9370\n",
            "Epoch 2/4\n",
            "49/49 [==============================] - 2s 34ms/step - loss: 0.1856 - binary_accuracy: 0.9592\n",
            "Epoch 3/4\n",
            "49/49 [==============================] - 2s 34ms/step - loss: 0.1385 - binary_accuracy: 0.9661\n",
            "Epoch 4/4\n",
            "49/49 [==============================] - 2s 34ms/step - loss: 0.1215 - binary_accuracy: 0.9714\n",
            "782/782 [==============================] - 2s 3ms/step - loss: 0.5068 - binary_accuracy: 0.8503\n"
          ]
        }
      ]
    },
    {
      "cell_type": "code",
      "source": [
        "model.predict(x_test)\n",
        "#likelihood of positive review"
      ],
      "metadata": {
        "colab": {
          "base_uri": "https://localhost:8080/"
        },
        "id": "koI_AXbCMylZ",
        "outputId": "700a40b8-195e-4111-cdbf-e7eb4b34e935"
      },
      "execution_count": 15,
      "outputs": [
        {
          "output_type": "execute_result",
          "data": {
            "text/plain": [
              "array([[0.02305683],\n",
              "       [0.98197687],\n",
              "       [0.3201813 ],\n",
              "       ...,\n",
              "       [0.02377629],\n",
              "       [0.0228987 ],\n",
              "       [0.89698815]], dtype=float32)"
            ]
          },
          "metadata": {},
          "execution_count": 15
        }
      ]
    }
  ]
}